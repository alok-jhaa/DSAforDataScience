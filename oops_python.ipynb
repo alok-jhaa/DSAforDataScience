{
 "cells": [
  {
   "cell_type": "markdown",
   "id": "6f6d8196",
   "metadata": {},
   "source": [
    "Class and Objects"
   ]
  },
  {
   "cell_type": "markdown",
   "id": "169ac36f",
   "metadata": {},
   "source": [
    "Class : A class is a blueprint for the object.\n",
    "We can think of class as a sketch of a parrot with labels. It contains all the details about the name, colors,\n",
    "size etc. Based on these descriptions, we can study about the parrot. Here, a parrot is an object.\n",
    "The example for class of parrot can be : "
   ]
  },
  {
   "cell_type": "code",
   "execution_count": null,
   "id": "1216ce4c",
   "metadata": {},
   "outputs": [],
   "source": [
    "class Parrot: \n",
    "    pass"
   ]
  },
  {
   "cell_type": "markdown",
   "id": "1477c99a",
   "metadata": {},
   "source": [
    "Here, we use the class keyword to define an empty class Parrot. From class, we construct instances. An\n",
    "instance is a specific object created from a particular class. \n"
   ]
  },
  {
   "cell_type": "markdown",
   "id": "67db1865",
   "metadata": {},
   "source": [
    "Object: An object (instance) is an instantiation of a class. When class is defined, only the description for the object\n",
    "is defined. Therefore, no memory or storage is allocated.\n",
    "The example for object of parrot class can be: "
   ]
  },
  {
   "cell_type": "code",
   "execution_count": 6,
   "id": "95b758f9",
   "metadata": {},
   "outputs": [
    {
     "name": "stdout",
     "output_type": "stream",
     "text": [
      "Blu is a bird\n",
      "Woo is also a bird\n",
      "Blu is 10 years old\n",
      "Woo is 15 years old\n"
     ]
    }
   ],
   "source": [
    "class Parrot: \n",
    "    \n",
    "    # class attribute\n",
    "    speciecs = \"bird\"\n",
    "\n",
    "    # instance(object) attribute\n",
    "    def __init__(self, name, age):\n",
    "        self.name = name\n",
    "        self.age = age\n",
    "\n",
    "# instantiate the Parrot class\n",
    "blu = Parrot(\"Blu\", 10)\n",
    "woo = Parrot(\"Woo\", 15)\n",
    "\n",
    "# access the class attributes\n",
    "print(\"Blu is a {}\".format(blu.speciecs))\n",
    "print(\"Woo is also a {}\".format(woo.speciecs))\n",
    "\n",
    "# access the instance attributes\n",
    "print(\"{} is {} years old\".format(blu.name, blu.age))\n",
    "print(\"{} is {} years old\".format(woo.name, woo.age))"
   ]
  },
  {
   "cell_type": "markdown",
   "id": "1f4706ea",
   "metadata": {},
   "source": [
    "Constructor"
   ]
  },
  {
   "cell_type": "markdown",
   "id": "45a5664a",
   "metadata": {},
   "source": [
    "The constructor is a method that is called when an object is created. This method is defined in the class and\n",
    "can be used to initialize basic variables.\n",
    "If you create four objects, the class constructor is called four times. Every class has a constructor, but its not\n",
    "required to explicitly define it.\n",
    "\n",
    "Example:\n",
    "Each time an object is created a method is called. That methods is named the constructor. \n"
   ]
  },
  {
   "cell_type": "markdown",
   "id": "a6e88dae",
   "metadata": {},
   "source": [
    "The constructor is created with the function init. As parameter we write the self keyword, which refers to\n",
    "itself (the object). The process visually is:"
   ]
  },
  {
   "cell_type": "code",
   "execution_count": null,
   "id": "9db85d8d",
   "metadata": {},
   "outputs": [
    {
     "name": "stdout",
     "output_type": "stream",
     "text": [
      "2\n",
      "2\n"
     ]
    }
   ],
   "source": [
    "class Human:\n",
    "    def __init__(self):\n",
    "        self.legs = 2\n",
    "        self.arms = 2\n",
    "\n",
    "alok = Human()\n",
    "\n",
    "print(alok.legs)\n",
    "print(alok.arms)\n",
    "\n",
    "\n"
   ]
  },
  {
   "cell_type": "code",
   "execution_count": 18,
   "id": "b17a53b6",
   "metadata": {},
   "outputs": [
    {
     "name": "stdout",
     "output_type": "stream",
     "text": [
      "Tesla - Model 3\n",
      "Ford - Unknown\n"
     ]
    }
   ],
   "source": [
    "class Car:\n",
    "    def __init__(self, brand, model=\"Unknown\"):\n",
    "        self.brand = brand\n",
    "        self.model = model\n",
    "\n",
    "    def details(self):\n",
    "        return f\"{self.brand} - {self.model}\"\n",
    "\n",
    "car1 = Car(\"Tesla\", \"Model 3\")\n",
    "car2 = Car(\"Ford\")\n",
    "\n",
    "print(car1.details())\n",
    "print(car2.details())\n"
   ]
  },
  {
   "cell_type": "markdown",
   "id": "74a6336c",
   "metadata": {},
   "source": [
    "Python Variable Types: Local & Global \n",
    "\n",
    "When you want to use the same variable for rest of your program or module you declare it as a global variable, while if you want to use the variable in a specific function or method, you use a local variable while Python variable declaration. "
   ]
  },
  {
   "cell_type": "code",
   "execution_count": 20,
   "id": "9c5d87c1",
   "metadata": {},
   "outputs": [
    {
     "name": "stdout",
     "output_type": "stream",
     "text": [
      "101\n",
      "I am learning Python\n"
     ]
    }
   ],
   "source": [
    "# Declare a variable and initialize it\n",
    "f = 101\n",
    "print (f)\n",
    "\n",
    "# Global vs. local variables in functions\n",
    "\n",
    "def someFunction():\n",
    "# global f\n",
    "     f = 'I am learning Python'\n",
    "     print (f) \n",
    "\n",
    "\n",
    "someFunction()\n"
   ]
  },
  {
   "cell_type": "markdown",
   "id": "31a213f5",
   "metadata": {},
   "source": [
    "While Python variable declaration using the keyword global, you can reference the global variable inside a\n",
    "function. "
   ]
  },
  {
   "cell_type": "code",
   "execution_count": 24,
   "id": "999bd107",
   "metadata": {},
   "outputs": [
    {
     "name": "stdout",
     "output_type": "stream",
     "text": [
      "101\n",
      "Changing global variable\n"
     ]
    }
   ],
   "source": [
    "f = 101;\n",
    "print (f)\n",
    "\n",
    "\n",
    "# Global vs.local variables in functions\n",
    "def someFunction():\n",
    "     global f\n",
    "     f = 'Changing global variable'\n",
    "     print (f)\n",
    "\n",
    "\n",
    "someFunction()\n"
   ]
  },
  {
   "cell_type": "markdown",
   "id": "07339289",
   "metadata": {},
   "source": [
    "Types of methods:\n",
    "Generally, there are three types of methods in Python:\n",
    "1. Instance Methods.\n",
    "2. Class Methods\n",
    "3. Static Methods "
   ]
  },
  {
   "cell_type": "markdown",
   "id": "7dc93ae7",
   "metadata": {},
   "source": [
    "Before moving on with the topic, we have to know some key concepts.\n",
    "Class Variable: A class variable is nothing but a variable that is defined outside the constructor. A class\n",
    "variable is also called as a static variable.\n",
    "Accessor(Getters): If you want to fetch the value from an instance variable we call them accessors.\n",
    "Mutator(Setters): If you want to modify the value we call them mutators"
   ]
  },
  {
   "cell_type": "markdown",
   "id": "7d50b521",
   "metadata": {},
   "source": [
    "Instance method"
   ]
  },
  {
   "cell_type": "markdown",
   "id": "44a7f820",
   "metadata": {},
   "source": [
    "- An instance method is a function defined inside a class that operates on objects (instances) of that class.\n",
    "\n",
    "- It always takes self as the first parameter → self refers to the specific object calling the method.\n",
    "\n",
    "- Through self, the method can access/modify instance variables (like self.a, self.b)."
   ]
  },
  {
   "cell_type": "code",
   "execution_count": 35,
   "id": "066a2f35",
   "metadata": {},
   "outputs": [
    {
     "name": "stdout",
     "output_type": "stream",
     "text": [
      "25.0\n",
      "45.0\n"
     ]
    }
   ],
   "source": [
    "class Student: \n",
    "    def __init__(self, a, b):\n",
    "        self.a = a\n",
    "        self.b = b\n",
    "\n",
    "    def avg(self):   # <-- instance method\n",
    "        return (self.a + self.b) / 2\n",
    "\n",
    "s1 = Student(20, 30)\n",
    "s2 = Student(40, 50)\n",
    "\n",
    "print(s1.avg())  # 25.0\n",
    "print(s2.avg())  # 45.0\n"
   ]
  },
  {
   "cell_type": "markdown",
   "id": "302743ec",
   "metadata": {},
   "source": [
    "Class Method: \n",
    "\n",
    "- A method that works on the class itself, not on individual objects.\n",
    "\n",
    "- Defined using the @classmethod decorator.\n",
    "\n",
    "- Instead of self, it takes cls as the first argument → cls refers to the class, not the object.\n",
    "\n",
    "- Used when you want to modify or access class-level data (shared across all objects)."
   ]
  },
  {
   "cell_type": "code",
   "execution_count": 36,
   "id": "c97dd015",
   "metadata": {},
   "outputs": [
    {
     "name": "stdout",
     "output_type": "stream",
     "text": [
      "Ravi is 15 years old and studies at ABC School\n",
      "Priya is 16 years old and studies at ABC School\n",
      "Ravi is 15 years old and studies at XYZ School\n",
      "Priya is 16 years old and studies at XYZ School\n"
     ]
    }
   ],
   "source": [
    "class Student:\n",
    "    # Class variable (shared by all students)\n",
    "    school_name = \"ABC School\"\n",
    "\n",
    "    def __init__(self, name, age):\n",
    "        self.name = name\n",
    "        self.age = age   # instance variable\n",
    "\n",
    "    # Instance method\n",
    "    def details(self):\n",
    "        return f\"{self.name} is {self.age} years old and studies at {Student.school_name}\"\n",
    "\n",
    "    # Class method\n",
    "    @classmethod\n",
    "    def change_school(cls, new_name):\n",
    "        cls.school_name = new_name\n",
    "\n",
    "# Create objects\n",
    "s1 = Student(\"Ravi\", 15)\n",
    "s2 = Student(\"Priya\", 16)\n",
    "\n",
    "print(s1.details())   # Ravi is 15 years old and studies at ABC School\n",
    "print(s2.details())   # Priya is 16 years old and studies at ABC School\n",
    "\n",
    "# Use class method to change class variable\n",
    "Student.change_school(\"XYZ School\")\n",
    "\n",
    "print(s1.details())   # Ravi is 15 years old and studies at XYZ School\n",
    "print(s2.details())   # Priya is 16 years old and studies at XYZ School\n"
   ]
  },
  {
   "cell_type": "markdown",
   "id": "cdbfe687",
   "metadata": {},
   "source": [
    "Static Method\n",
    "\n",
    "- No self, no cls.\n",
    "\n",
    "- Just a function inside a class, grouped for organization.\n",
    "\n",
    "- It doesn’t care about class variables or instance variables.\n",
    "\n",
    "- Defined with @staticmethod."
   ]
  },
  {
   "cell_type": "code",
   "execution_count": 37,
   "id": "8d6761e0",
   "metadata": {},
   "outputs": [
    {
     "name": "stdout",
     "output_type": "stream",
     "text": [
      "30\n",
      "True\n"
     ]
    }
   ],
   "source": [
    "class MathUtils:\n",
    "    @staticmethod\n",
    "    def add(a, b):\n",
    "        return a + b\n",
    "\n",
    "    @staticmethod\n",
    "    def is_even(n):\n",
    "        return n % 2 == 0\n",
    "\n",
    "print(MathUtils.add(10, 20))     # 30\n",
    "print(MathUtils.is_even(4))      # True\n"
   ]
  },
  {
   "cell_type": "markdown",
   "id": "70616671",
   "metadata": {},
   "source": [
    "👉 Quick analogy:\n",
    "\n",
    "- Instance method = personal diary (per object).\n",
    "\n",
    "- Class method = school notice board (shared by all students).\n",
    "\n",
    "- Static method = calculator in the classroom (just a tool, doesn’t belong to anyone)."
   ]
  },
  {
   "cell_type": "markdown",
   "id": "719d8291",
   "metadata": {},
   "source": [
    "### QUIZZ"
   ]
  },
  {
   "cell_type": "code",
   "execution_count": 38,
   "id": "39d155a0",
   "metadata": {},
   "outputs": [
    {
     "name": "stdout",
     "output_type": "stream",
     "text": [
      "Hello, I am Alok\n",
      "Hello, I am Ravi\n",
      "Meta\n",
      "Meta\n",
      "25\n",
      "Alok works at Amazon\n",
      "Welcome to the company!\n",
      "Alok works at Netflix\n"
     ]
    }
   ],
   "source": [
    "# Q1: Instance Method\n",
    "\n",
    "# What will this print?\n",
    "\n",
    "class Student:\n",
    "    def __init__(self, name):\n",
    "        self.name = name\n",
    "\n",
    "    def greet(self):\n",
    "        return f\"Hello, I am {self.name}\"\n",
    "\n",
    "s1 = Student(\"Alok\")\n",
    "s2 = Student(\"Ravi\")\n",
    "\n",
    "print(s1.greet())\n",
    "print(s2.greet())\n",
    "\n",
    "\n",
    "# Q2: Class Method\n",
    "\n",
    "# What will this print?\n",
    "\n",
    "class Company:\n",
    "    company_name = \"Google\"\n",
    "\n",
    "    @classmethod\n",
    "    def change_name(cls, new_name):\n",
    "        cls.company_name = new_name\n",
    "\n",
    "c1 = Company()\n",
    "c2 = Company()\n",
    "\n",
    "Company.change_name(\"Meta\")\n",
    "\n",
    "print(c1.company_name)\n",
    "print(c2.company_name)\n",
    "\n",
    "# Q3: Static Method\n",
    "\n",
    "# What will this print?\n",
    "\n",
    "class MathUtils:\n",
    "    @staticmethod\n",
    "    def square(x):\n",
    "        return x * x\n",
    "\n",
    "print(MathUtils.square(5))\n",
    "\n",
    "\n",
    "# Q4: Mixed Methods\n",
    "\n",
    "# What will this print?\n",
    "\n",
    "class Employee:\n",
    "    company = \"Amazon\"\n",
    "\n",
    "    def __init__(self, name):\n",
    "        self.name = name\n",
    "\n",
    "    def show(self):   # Instance method\n",
    "        return f\"{self.name} works at {Employee.company}\"\n",
    "\n",
    "    @classmethod\n",
    "    def change_company(cls, new_company):   # Class method\n",
    "        cls.company = new_company\n",
    "\n",
    "    @staticmethod\n",
    "    def greet():   # Static method\n",
    "        return \"Welcome to the company!\"\n",
    "\n",
    "e1 = Employee(\"Alok\")\n",
    "print(e1.show())\n",
    "print(Employee.greet())\n",
    "\n",
    "Employee.change_company(\"Netflix\")\n",
    "print(e1.show())"
   ]
  },
  {
   "cell_type": "markdown",
   "id": "9e027e47",
   "metadata": {},
   "source": [
    "Inheritance\n",
    "\n",
    "What is Inheritance (and why you care)\n",
    "\n",
    "Definition: A class (child/subclass) can reuse/extend another class (parent/superclass).\n",
    "\n",
    "Why: Avoid duplicate code; specialize behavior; keep shared logic in one place."
   ]
  },
  {
   "cell_type": "markdown",
   "id": "f81e0dc7",
   "metadata": {},
   "source": [
    "1. Single Inheritance"
   ]
  },
  {
   "cell_type": "code",
   "execution_count": 40,
   "id": "88e2a10e",
   "metadata": {},
   "outputs": [
    {
     "name": "stdout",
     "output_type": "stream",
     "text": [
      "Bruno\n",
      "Woof\n"
     ]
    }
   ],
   "source": [
    "class Animal:\n",
    "    def __init__(self, name):\n",
    "        self.name = name\n",
    "\n",
    "    def speak(self):\n",
    "        return \"<silence>\"\n",
    "\n",
    "class Dog(Animal):                  # Dog inherits from Animal\n",
    "    def speak(self):                # override\n",
    "        return \"Woof\"\n",
    "\n",
    "d = Dog(\"Bruno\")\n",
    "print(d.name)      # Bruno  (inherited from Animal)\n",
    "print(d.speak())   # Woof   (overridden in Dog)\n",
    "\n",
    "# Key points\n",
    "\n",
    "# Child class gets all attributes/methods of the parent unless it overrides them.\n",
    "\n",
    "# If the child defines the same method, the child’s version wins.\n"
   ]
  },
  {
   "cell_type": "markdown",
   "id": "daa4f2f0",
   "metadata": {},
   "source": [
    "2) Using super() correctly\n",
    "\n",
    "- super() is a built-in function that gives you access to the parent class (a.k.a. superclass).\n",
    "\n",
    "- You use it when you want the child class to reuse or extend behavior from the parent, instead of completely replacing it."
   ]
  },
  {
   "cell_type": "markdown",
   "id": "f71c7a04",
   "metadata": {},
   "source": [
    "Why do we need it?"
   ]
  },
  {
   "cell_type": "code",
   "execution_count": 1,
   "id": "154df61e",
   "metadata": {},
   "outputs": [
    {
     "name": "stdout",
     "output_type": "stream",
     "text": [
      "Ford Mustang\n"
     ]
    }
   ],
   "source": [
    "# 👉 Imagine you’re building a Car class that inherits from Vehicle.\n",
    "\n",
    "class vehicle: \n",
    "    def __init__(self, make):\n",
    "        self.make = make\n",
    "\n",
    "class Car(vehicle):\n",
    "    def __init__(self, make, model):\n",
    "        super().__init__(make)  # Call parent constructor\n",
    "        self.model = model\n",
    "\n",
    "    def info(self):\n",
    "        return f\"{self.make} {self.model}\"\n",
    "    \n",
    "\n",
    "car = Car(\"Ford\", \"Mustang\")\n",
    "print(car.info())  # Ford Mustang\n",
    "\n"
   ]
  },
  {
   "cell_type": "markdown",
   "id": "326d8a1a",
   "metadata": {},
   "source": [
    "Real-World Data Scientist Example\n",
    "\n",
    "Suppose you’re building a machine learning pipeline."
   ]
  },
  {
   "cell_type": "code",
   "execution_count": 4,
   "id": "07414cdd",
   "metadata": {},
   "outputs": [
    {
     "name": "stdout",
     "output_type": "stream",
     "text": [
      "Training Linear Regression Model\n",
      "Training Decision Tree Model\n",
      "Evaluating dt with data X:[1, 2] and labels y:[3, 4]\n"
     ]
    }
   ],
   "source": [
    "class model:\n",
    "    def __init__(self, model):\n",
    "        self.model = model\n",
    "\n",
    "    \n",
    "    def train(self,X,y):\n",
    "        print(f\"Training {self.model} with data X:{X} and labels y:{y}\")\n",
    "    \n",
    "    def evaluate(self,X,y):\n",
    "        print(f\"Evaluating {self.model} with data X:{X} and labels y:{y}\")\n",
    "\n",
    "\n",
    "class linearregression(model):\n",
    "    def train(X,y,model):\n",
    "        print(\"Training Linear Regression Model\")\n",
    "\n",
    "class decisiontree(model):\n",
    "    def train(X,y,model):\n",
    "        print(\"Training Decision Tree Model\")\n",
    "\n",
    "\n",
    "linreg = linearregression(\"linreg\")\n",
    "linreg.train([1,2,3], [4,5,6])   # Training LinReg using Linear Regression on 3 samples\n",
    "\n",
    "dt =decisiontree(\"dt\")\n",
    "dt.train([1,2,3,4], [5,6,7,8])   # Training RF using Random Forest on 4 samples\n",
    "dt.evaluate([1,2], [3,4])        # Evaluating RF\n",
    "\n",
    "              "
   ]
  },
  {
   "cell_type": "code",
   "execution_count": null,
   "id": "3c777d9c",
   "metadata": {},
   "outputs": [],
   "source": []
  },
  {
   "cell_type": "markdown",
   "id": "02a43fbb",
   "metadata": {},
   "source": [
    "Multiple Inheritance"
   ]
  },
  {
   "cell_type": "code",
   "execution_count": null,
   "id": "705cbb25",
   "metadata": {},
   "outputs": [],
   "source": []
  },
  {
   "cell_type": "code",
   "execution_count": 7,
   "id": "99a45d36",
   "metadata": {},
   "outputs": [
    {
     "name": "stdout",
     "output_type": "stream",
     "text": [
      "Hacker\n"
     ]
    }
   ],
   "source": [
    "s = \"HackerRank\"\n",
    "print(s[0:6])   # 'Hacker' → start=0, end=6, step=1\n",
    "\n"
   ]
  },
  {
   "cell_type": "code",
   "execution_count": null,
   "id": "3a779494",
   "metadata": {},
   "outputs": [],
   "source": []
  },
  {
   "cell_type": "markdown",
   "id": "c2c8afe6",
   "metadata": {},
   "source": [
    "#### Polymorphism"
   ]
  },
  {
   "cell_type": "markdown",
   "id": "7527aedf",
   "metadata": {},
   "source": [
    "Polymorphism = \"many forms\".\n",
    "In OOP, it means the same function/operator behaves differently based on the context.\n",
    "\n",
    "In simple words: one name, multiple behaviors.\n",
    "This makes your code more flexible, reusable, and powerful."
   ]
  },
  {
   "cell_type": "markdown",
   "id": "c37988e6",
   "metadata": {},
   "source": [
    "(A) Compile-time (Static) Polymorphism\n",
    "\n",
    "- Achieved via method overloading or operator overloading.\n",
    "\n",
    "- In Python, true method overloading doesn’t exist (latest method definition overrides the old one).\n",
    "\n",
    "- But we mimic it with:\n",
    "\n",
    "- Default arguments\n",
    "\n",
    "- *args and **kwargs\n",
    "\n",
    "- Operator overloading (__add__, __mul__, etc.)\n",
    "\n",
    "(B) Runtime (Dynamic) Polymorphism\n",
    "\n",
    "- Achieved via method overriding.\n",
    "\n",
    "- Subclass provides a different implementation of a method that already exists in the parent class.\n",
    "\n",
    "- Decided at runtime which method gets executed (based on object type).\n",
    "\n",
    "\n",
    "\n",
    "\n",
    "\n"
   ]
  },
  {
   "cell_type": "markdown",
   "id": "1582b8d4",
   "metadata": {},
   "source": [
    "(A) Compile-time (Static) Polymorphism\n",
    "\n",
    "- Achieved via method overloading or operator overloading.\n",
    "\n",
    "- In Python, true method overloading doesn’t exist (latest method definition overrides the old one).\n",
    "\n",
    "- But we mimic it with:\n",
    "\n",
    "- Default arguments\n",
    "\n",
    "- *args and **kwargs\n",
    "\n",
    "- Operator overloading (__add__, __mul__, etc.)\n",
    "\n",
    "(B) Runtime (Dynamic) Polymorphism\n",
    "\n",
    "- Achieved via method overriding.\n",
    "\n",
    "- Subclass provides a different implementation of a method that already exists in the parent class.\n",
    "\n",
    "- Decided at runtime which method gets executed (based on object type).\n",
    "\n",
    "\n",
    "\n",
    "\n",
    "\n"
   ]
  },
  {
   "cell_type": "markdown",
   "id": "84e6f312",
   "metadata": {},
   "source": [
    "#### Example 1: Operator Overloading\n"
   ]
  },
  {
   "cell_type": "code",
   "execution_count": null,
   "id": "0f1d9943",
   "metadata": {},
   "outputs": [
    {
     "name": "stdout",
     "output_type": "stream",
     "text": [
      "(7, 10)\n"
     ]
    }
   ],
   "source": [
    "\n",
    "# Step 1 – Class Definition\n",
    "\n",
    "class vector: \n",
    "    def __init__(self, x, y):\n",
    "        self.x = x\n",
    "        self.y = y\n",
    "\n",
    "    def __add__(self, other):   # Overloading +\n",
    "        return vector(self.x + other.x, self.y + other.y)\n",
    "    \n",
    "    def __str__(self):\n",
    "        return f\"({self.x}, {self.y})\"  \n",
    "    \n",
    "# When Python reads this:\n",
    "\n",
    "# - Vector__init__ → special function to build objects.\n",
    "\n",
    "# - Vector__add__ → special function to handle +.\n",
    "\n",
    "# - Vector__str__ → special function to turn object into string.\n",
    "\n",
    "\n",
    "# Step 2 – Create objects\n",
    "\n",
    "v1 = vector(2, 3)\n",
    "\n",
    "# Python makes a blank Vector object.\n",
    "\n",
    "# Calls: Vector.__init__(v1, 2, 3)\n",
    "\n",
    "# Inside: sets v1.x = 2, v1.y = 3.\n",
    "\n",
    "# Now v1 is (2,3).\n",
    "\n",
    "v2 = vector(5, 7)\n",
    "# same thing\n",
    "# Now v2 is (5,7).\n",
    "\n",
    "\n",
    "# Step 3 – The tricky part → v1 + v2\n",
    "\n",
    "# Here’s the key moment: Python sees +.\n",
    "# It asks: “Which __add__ do I call?”\n",
    "\n",
    "# Left operand is v1 (a Vector).\n",
    "\n",
    "# So Python checks inside the Vector class for __add__.\n",
    "\n",
    "# Finds it.\n",
    "\n",
    "# Executes:\n",
    "\n",
    "# Vector.__add__(v1, v2)\n",
    "\n",
    "# ⚠️ Important: this is literally a method call, same as v1.__add__(v2).\n",
    "\n",
    "# Inside __add__:\n",
    "\n",
    "# self = v1 → (2,3)\n",
    "\n",
    "# other = v2 → (4,5)\n",
    "\n",
    "# Does:\n",
    "\n",
    "# Vector(self.x + other.x, self.y + other.y)\n",
    "# → Vector(2+4, 3+5) → Vector(6,8)\n",
    "\n",
    "# So a new Vector object (6,8) is created and returned.\n",
    "# It does not modify v1 or v2.\n",
    "\n",
    "\n",
    "# Step 4 – Printing\n",
    "print(v1 + v2)   # (7, 10)\n",
    "\n",
    "\n",
    "# The expression v1 + v2 already returned a new object (6,8).\n",
    "\n",
    "# Now print() needs a string.\n",
    "\n",
    "# It calls: Vector.__str__(that_new_object)\n",
    "\n",
    "# Which returns \" (6, 8) \".\n",
    "\n",
    "# Print shows: (6, 8).\n"
   ]
  },
  {
   "cell_type": "markdown",
   "id": "1b83d64a",
   "metadata": {},
   "source": [
    "##### Example 2: Method Overloading with *args\n",
    "\n"
   ]
  },
  {
   "cell_type": "code",
   "execution_count": 9,
   "id": "9265e6b8",
   "metadata": {},
   "outputs": [
    {
     "name": "stdout",
     "output_type": "stream",
     "text": [
      "5\n",
      "14\n"
     ]
    }
   ],
   "source": [
    "class MathOps:\n",
    "    def add(self, *args):\n",
    "        return sum(args)\n",
    "\n",
    "m = MathOps()\n",
    "print(m.add(2, 3))         # 5\n",
    "print(m.add(2, 3, 4, 5))   # 14\n"
   ]
  },
  {
   "cell_type": "markdown",
   "id": "5e97c6f5",
   "metadata": {},
   "source": [
    "Step 1 – Define the class"
   ]
  },
  {
   "cell_type": "code",
   "execution_count": 10,
   "id": "6e91e54e",
   "metadata": {},
   "outputs": [],
   "source": [
    "class MathOps:\n",
    "    def add(self, *args):\n",
    "        return sum(args)\n"
   ]
  },
  {
   "cell_type": "markdown",
   "id": "329536c3",
   "metadata": {},
   "source": [
    "*args = special syntax → means: “take all extra positional arguments and put them into a tuple.”\n",
    "\n",
    "- So add(2,3) → args = (2,3)\n",
    "\n",
    "- And add(2,3,4,5) → args = (2,3,4,5)\n",
    "\n",
    "Inside:\n",
    "\n",
    "- sum(args) → adds everything inside that tuple.\n",
    "\n",
    "- Returns the total."
   ]
  },
  {
   "cell_type": "markdown",
   "id": "aad2b457",
   "metadata": {},
   "source": [
    "Step 2 – Create object"
   ]
  },
  {
   "cell_type": "code",
   "execution_count": null,
   "id": "acbe14c7",
   "metadata": {},
   "outputs": [],
   "source": [
    "m = MathOps()"
   ]
  },
  {
   "cell_type": "markdown",
   "id": "74f798f2",
   "metadata": {},
   "source": [
    "Python makes an instance of MathOps.\n",
    "\n",
    "m.add is now bound to that object."
   ]
  },
  {
   "cell_type": "markdown",
   "id": "d2b81890",
   "metadata": {},
   "source": [
    "Step 3 – Call with 2 numbers"
   ]
  },
  {
   "cell_type": "code",
   "execution_count": 14,
   "id": "e64e5ff9",
   "metadata": {},
   "outputs": [
    {
     "name": "stdout",
     "output_type": "stream",
     "text": [
      "5\n",
      "14\n"
     ]
    }
   ],
   "source": [
    "print(m.add(2,3))\n",
    "print(m.add(2,3,4,5))"
   ]
  },
  {
   "cell_type": "markdown",
   "id": "b3e757cf",
   "metadata": {},
   "source": [
    "Why is this polymorphism?\n",
    "\n",
    "Because the same method name add adapts to different numbers of arguments.\n",
    "\n",
    "👉 The behavior of add changes depending on what you pass in:\n",
    "\n",
    "add(2,3) → adds 2 numbers.\n",
    "\n",
    "add(2,3,4,5) → adds 4 numbers.\n",
    "\n",
    "One method name, many forms. That’s polymorphism."
   ]
  },
  {
   "cell_type": "markdown",
   "id": "61d915ff",
   "metadata": {},
   "source": [
    "Mental hook (to never forget this)\n",
    "Think of *args like a magic bag:\n",
    "\n",
    "Whatever you throw into add(...), Python collects it in that bag.\n",
    "\n",
    "Inside the method, you decide what to do with that bag.\n",
    "\n",
    "That’s why the same method can handle 2, 3, or 100 numbers."
   ]
  },
  {
   "cell_type": "markdown",
   "id": "a3035359",
   "metadata": {},
   "source": [
    "#### Example 3: Method Overriding (Dynamic Polymorphism)"
   ]
  },
  {
   "cell_type": "markdown",
   "id": "cdcad008",
   "metadata": {},
   "source": [
    " Step 1 – Parent class\n",
    "\n",
    "- Base class = Animal.\n",
    "\n",
    "- Default behavior of speak = \"Some sound\".\n"
   ]
  },
  {
   "cell_type": "code",
   "execution_count": 15,
   "id": "eed0895f",
   "metadata": {},
   "outputs": [],
   "source": [
    "class Animal: \n",
    "    def speak(self): \n",
    "        return \"make a sound\""
   ]
  },
  {
   "cell_type": "markdown",
   "id": "79feb7eb",
   "metadata": {},
   "source": [
    "Step 2 – Subclasses override the method\n",
    "\n",
    "- Dog inherits from Animal.\n",
    "\n",
    "- But it overrides speak().\n",
    "\n",
    "- So, if you call speak on a Dog object → Python will use this version, not the parent’s."
   ]
  },
  {
   "cell_type": "code",
   "execution_count": null,
   "id": "cff51e41",
   "metadata": {},
   "outputs": [],
   "source": [
    "class Dog(Animal): \n",
    "    def speak(self): \n",
    "        return \"Woof!\""
   ]
  },
  {
   "cell_type": "markdown",
   "id": "30935962",
   "metadata": {},
   "source": [
    "- Same with Cat.\n",
    "\n",
    "- Overrides speak()."
   ]
  },
  {
   "cell_type": "code",
   "execution_count": 17,
   "id": "7bfcd2a4",
   "metadata": {},
   "outputs": [],
   "source": [
    "class Cat(Animal):\n",
    "    def speak(self):\n",
    "        return \"Meow!\"\n"
   ]
  },
  {
   "cell_type": "markdown",
   "id": "703ea3df",
   "metadata": {},
   "source": [
    "Step 3 – Create objects"
   ]
  },
  {
   "cell_type": "code",
   "execution_count": 18,
   "id": "3835b748",
   "metadata": {},
   "outputs": [
    {
     "name": "stdout",
     "output_type": "stream",
     "text": [
      "Woof!\n",
      "Meow!\n",
      "make a sound\n"
     ]
    }
   ],
   "source": [
    "animals = [Dog(), Cat(), Animal()]\n",
    "for a in animals:\n",
    "    print(a.speak())"
   ]
  },
  {
   "cell_type": "markdown",
   "id": "0ae58af1",
   "metadata": {},
   "source": [
    "Why is this polymorphism?\n",
    "\n",
    "The same method name → speak().\n",
    "\n",
    "Behavior depends on the actual object at runtime, not just the variable type.\n",
    "\n",
    "This is dynamic polymorphism (decision made at runtime).\n",
    "\n",
    "---------------------------------------------------------\n",
    "\n",
    "Mental hook (never forget this):\n",
    "Think of it like this:\n",
    "\n",
    "You tell every object: “Hey, speak!”\n",
    "\n",
    "A Dog barks, a Cat meows, a generic Animal just makes a dull noise.\n",
    "\n",
    "You don’t care which exact object it is. You just call the same method and get different behaviors."
   ]
  },
  {
   "cell_type": "markdown",
   "id": "9dfc4905",
   "metadata": {},
   "source": [
    "#### Example 4 - Duck Typing\n",
    "\n",
    "- Example 1 – Simple Duck Typing"
   ]
  },
  {
   "cell_type": "code",
   "execution_count": 19,
   "id": "ce0b842e",
   "metadata": {},
   "outputs": [
    {
     "name": "stdout",
     "output_type": "stream",
     "text": [
      "Pigeon flying...\n",
      "Airplane flying...\n"
     ]
    }
   ],
   "source": [
    "class Pigeon:\n",
    "    def fly(self):\n",
    "        print(\"Pigeon flying...\")\n",
    "\n",
    "class Airplane:\n",
    "    def fly(self):\n",
    "        print(\"Airplane flying...\")\n",
    "\n",
    "def lets_fly(obj):\n",
    "    obj.fly()\n",
    "\n",
    "lets_fly(Pigeon())    # Pigeon flying...\n",
    "lets_fly(Airplane())  # Airplane flying...\n"
   ]
  },
  {
   "cell_type": "markdown",
   "id": "b8ec5c24",
   "metadata": {},
   "source": [
    "Step-by-step breakdown:\n",
    "\n",
    "Two classes:\n",
    "\n",
    "- Pigeon has fly()\n",
    "\n",
    "- Airplane has fly()\n",
    "\n",
    "lets_fly(obj):\n",
    "\n",
    "Doesn’t care if obj is Pigeon, Airplane, or something else.\n",
    "\n",
    "It just calls obj.fly().\n",
    "\n",
    "Call lets_fly(Pigeon()):\n",
    "\n",
    "Object is a Pigeon.\n",
    "\n",
    "Does Pigeon.fly() → prints \"Pigeon flying...\".\n",
    "\n",
    "Call lets_fly(Airplane()):\n",
    "\n",
    "Object is an Airplane.\n",
    "\n",
    "Does Airplane.fly() → prints \"Airplane flying...\".\n",
    "\n",
    "----- Notice: no inheritance used.\n",
    "Still, same function name (fly) → multiple behaviors depending on the object.\n",
    "That’s polymorphism, Python-style."
   ]
  },
  {
   "cell_type": "markdown",
   "id": "5a7de677",
   "metadata": {},
   "source": [
    "Example 2.  Totally unrelated objects\n"
   ]
  },
  {
   "cell_type": "code",
   "execution_count": 20,
   "id": "c1c0f2e5",
   "metadata": {},
   "outputs": [
    {
     "name": "stdout",
     "output_type": "stream",
     "text": [
      "Writing Python code...\n",
      "Writing poetry in code form...\n"
     ]
    }
   ],
   "source": [
    "class Programmer:\n",
    "    def code(self):\n",
    "        print(\"Writing Python code...\")\n",
    "\n",
    "class Poet:\n",
    "    def code(self):\n",
    "        print(\"Writing poetry in code form...\")\n",
    "\n",
    "def start_coding(obj):\n",
    "    obj.code()\n",
    "\n",
    "start_coding(Programmer())  # Writing Python code...\n",
    "start_coding(Poet())        # Writing poetry in code form...\n"
   ]
  },
  {
   "cell_type": "markdown",
   "id": "37817b2c",
   "metadata": {},
   "source": [
    "Both Programmer and Poet have .code() method.\n",
    "So start_coding doesn’t care who’s who → just runs .code().\n",
    "\n",
    "Why is this useful?\n",
    "\n",
    "More flexible than inheritance.\n",
    "\n",
    "You can plug in any object as long as it supports the method.\n",
    "\n",
    "This is why Python libraries (like Pandas, Scikit-learn, PyTorch) work on different kinds of objects — they just expect certain methods/attributes, not strict parent classes."
   ]
  },
  {
   "cell_type": "code",
   "execution_count": null,
   "id": "0f6e5aa1",
   "metadata": {},
   "outputs": [
    {
     "name": "stdout",
     "output_type": "stream",
     "text": [
      "Singing a song...\n",
      "Dancing on stage...\n"
     ]
    }
   ],
   "source": [
    "# Practive ducktypying\n",
    "\n",
    "\n",
    "class singer: \n",
    "    def perform(self):\n",
    "        print(\"Singing a song...\")\n",
    "\n",
    "\n",
    "class dancer: \n",
    "    def perform(self):\n",
    "        print(\"Dancing on stage...\")\n",
    "\n",
    "\n",
    "\n",
    "def start_show(obj):\n",
    "    obj.perform()\n",
    "\n",
    "\n",
    "start_show(singer())   # Singing a song...\n",
    "start_show(dancer())   # Dancing on stage...\n",
    "\n"
   ]
  },
  {
   "cell_type": "markdown",
   "id": "1de53a2b",
   "metadata": {},
   "source": [
    "#### Encapsulation\n",
    "\n",
    "Definition:\n",
    "Encapsulation = bundling data + methods that operate on that data inside a class, while controlling access to that data.\n",
    "\n",
    "Think: You don’t let everyone touch your raw data directly.\n",
    "You give them controlled access via getters/setters (or properties).\n",
    "\n",
    "Example 1 – Without Encapsulation (Bad way)"
   ]
  },
  {
   "cell_type": "code",
   "execution_count": 22,
   "id": "2fd06e50",
   "metadata": {},
   "outputs": [
    {
     "name": "stdout",
     "output_type": "stream",
     "text": [
      "1000\n",
      "-500\n"
     ]
    }
   ],
   "source": [
    "class BankAccount:\n",
    "    def __init__(self, balance):\n",
    "        self.balance = balance  # Public variable (anyone can change it)\n",
    "\n",
    "account = BankAccount(1000)\n",
    "print(account.balance)  # 1000\n",
    "account.balance = -500  # Oops, anyone can directly mess with it!\n",
    "print(account.balance)  # -500\n",
    "\n",
    "\n"
   ]
  },
  {
   "cell_type": "markdown",
   "id": "5d81cac0",
   "metadata": {},
   "source": [
    "Example 2 – With Encapsulation"
   ]
  },
  {
   "cell_type": "code",
   "execution_count": 23,
   "id": "e000ce0c",
   "metadata": {},
   "outputs": [
    {
     "name": "stdout",
     "output_type": "stream",
     "text": [
      "1500\n",
      "Invalid withdrawal!\n",
      "1500\n"
     ]
    }
   ],
   "source": [
    "class BankAccount:\n",
    "    def __init__(self, balance):\n",
    "        self.__balance = balance   # Private variable (double underscore)\n",
    "\n",
    "    def deposit(self, amount):\n",
    "        if amount > 0:\n",
    "            self.__balance += amount\n",
    "        else:\n",
    "            print(\"Deposit must be positive!\")\n",
    "\n",
    "    def withdraw(self, amount):\n",
    "        if 0 < amount <= self.__balance:\n",
    "            self.__balance -= amount\n",
    "        else:\n",
    "            print(\"Invalid withdrawal!\")\n",
    "\n",
    "    def get_balance(self):\n",
    "        return self.__balance\n",
    "\n",
    "account = BankAccount(1000)\n",
    "account.deposit(500)\n",
    "print(account.get_balance())   # 1500\n",
    "account.withdraw(2000)         # Invalid withdrawal!\n",
    "print(account.get_balance())   # 1500\n",
    "\n",
    "\n"
   ]
  },
  {
   "cell_type": "markdown",
   "id": "94ab7d92",
   "metadata": {},
   "source": [
    "👉 What happened?\n",
    "\n",
    "__balance = private. Can’t be directly accessed outside.\n",
    "\n",
    "You can only interact with it via deposit, withdraw, get_balance.\n",
    "\n",
    "This prevents misuse.\n",
    "\n",
    "Encapsulation = wrapping + protection."
   ]
  },
  {
   "cell_type": "markdown",
   "id": "9a7be772",
   "metadata": {},
   "source": [
    "#### Abstraction"
   ]
  },
  {
   "cell_type": "markdown",
   "id": "c2de643d",
   "metadata": {},
   "source": [
    "Definition:\n",
    "Abstraction = hiding the internal details and only showing the essential features.\n",
    "\n",
    "- Encapsulation = hiding data (security).\n",
    "\n",
    "- Abstraction = hiding implementation (simplicity)."
   ]
  },
  {
   "cell_type": "markdown",
   "id": "81f400e1",
   "metadata": {},
   "source": [
    "Example 1 – Abstract class in Python"
   ]
  },
  {
   "cell_type": "code",
   "execution_count": 24,
   "id": "8e7e61ec",
   "metadata": {},
   "outputs": [
    {
     "name": "stdout",
     "output_type": "stream",
     "text": [
      "Car engine started...\n",
      "Bike kick-started...\n"
     ]
    }
   ],
   "source": [
    "from abc import ABC, abstractmethod\n",
    "\n",
    "class Vehicle(ABC):   # Abstract base class\n",
    "    @abstractmethod\n",
    "    def start(self):\n",
    "        pass   # Must be implemented by child\n",
    "\n",
    "class Car(Vehicle):\n",
    "    def start(self):\n",
    "        print(\"Car engine started...\")\n",
    "\n",
    "class Bike(Vehicle):\n",
    "    def start(self):\n",
    "        print(\"Bike kick-started...\")\n",
    "\n",
    "vehicles = [Car(), Bike()]\n",
    "for v in vehicles:\n",
    "    v.start()\n"
   ]
  },
  {
   "cell_type": "markdown",
   "id": "fa7000c9",
   "metadata": {},
   "source": [
    "What’s happening:\n",
    "\n",
    "Vehicle is an abstract class (cannot be directly instantiated).\n",
    "\n",
    "start() is an abstract method (no logic here).\n",
    "\n",
    "Each subclass (Car, Bike) must implement it.\n",
    "\n",
    "Loop runs → same method name start() → different behavior.\n",
    "\n",
    "That’s abstraction + polymorphism combined."
   ]
  },
  {
   "cell_type": "markdown",
   "id": "d39a2dcc",
   "metadata": {},
   "source": [
    "--------------------------------------------------------------------------------------\n",
    "Mental hook:\n",
    "Abstraction is like driving a car:\n",
    "\n",
    "You just turn the key (start()), you don’t care about spark plugs, combustion, fuel injection happening inside.\n",
    "\n",
    "Implementation is hidden, only essential feature is exposed.\n",
    "\n",
    "---------------------------------------------------------------------------------------"
   ]
  },
  {
   "cell_type": "markdown",
   "id": "13afe3f9",
   "metadata": {},
   "source": [
    "Evolution of OOP Concepts\n",
    "\n",
    "Why OOP evolved. Each concept exists because the earlier one had limitations. Let me show you the flow clearly:\n",
    "\n",
    "1. Class & Object\n",
    "\n",
    "Need: Group data + related functions together.\n",
    "\n",
    "Limitation: Every object behaves the same — no hierarchy or reuse.\n",
    "\n",
    "2. Inheritance\n",
    "\n",
    "Need: Reuse code instead of rewriting it.\n",
    "\n",
    "Example: Dog and Cat inherit from Animal.\n",
    "\n",
    "Limitation: Parent’s methods may not always fit → child needs its own behavior.\n",
    "\n",
    "3. Polymorphism\n",
    "\n",
    "Need: Same method/operator should behave differently depending on object type.\n",
    "\n",
    "Example: Dog.speak() vs Cat.speak().\n",
    "\n",
    "Limitation: Still need a way to protect data inside the class from outside misuse.\n",
    "\n",
    "4. Encapsulation\n",
    "\n",
    "Need: Control who can access/modify class data.\n",
    "\n",
    "Example: Bank balance should not be directly changed → only via deposit/withdraw methods.\n",
    "\n",
    "Limitation: Data is safe, but still too much complexity (users shouldn’t see all details).\n",
    "\n",
    "5. Abstraction\n",
    "\n",
    "Need: Hide unnecessary details, expose only essentials.\n",
    "\n",
    "Example: When you call car.start(), you don’t care about spark plugs, fuel injection.\n",
    "\n",
    "Limitation: None (this is more like the final polish for clean design).\n",
    "\n",
    "-----------------------------------------------------------------------------------------------------"
   ]
  },
  {
   "cell_type": "markdown",
   "id": "caee58a4",
   "metadata": {},
   "source": [
    "Mental model to lock this in forever:\n",
    "Think of OOP like building a house:\n",
    "\n",
    "- Class & Object = You built the rooms (basic structure).\n",
    "\n",
    "- nheritance = You copy-paste the design to make new rooms with small changes.\n",
    "\n",
    "- Polymorphism = You use the same door handle, but it opens different rooms.\n",
    "\n",
    "- Encapsulation = You add locks to doors so not everyone can enter.\n",
    "\n",
    "- Abstraction = You give a “main switchboard” so people don’t have to mess with all internal wiring."
   ]
  },
  {
   "cell_type": "markdown",
   "id": "31b34554",
   "metadata": {},
   "source": [
    "-------------------------------------------------------------------------------"
   ]
  },
  {
   "cell_type": "code",
   "execution_count": 33,
   "id": "7cd62cb5",
   "metadata": {},
   "outputs": [
    {
     "name": "stdout",
     "output_type": "stream",
     "text": [
      "(6, 8)\n",
      "(4, 5)\n",
      "3\n",
      "14\n",
      "make a sound\n",
      "Woof!\n"
     ]
    }
   ],
   "source": [
    "# 1. \n",
    "\n",
    "class vector:\n",
    "    def __init__(self, x, y):\n",
    "        self.x = x\n",
    "        self.y = y\n",
    "\n",
    "    def __add__(self, other):   # Overloading +\n",
    "        return vector(self.x + other.x, self.y + other.y)   \n",
    "    \n",
    "    def __sub__(self, other):   # Overloading -\n",
    "        return vector(self.x - other.x, self.y - other.y)\n",
    "    \n",
    "    def __str__(self):\n",
    "        return f\"({self.x}, {self.y})\"         \n",
    "\n",
    "print(vector(2,3) + vector(4,5))       # (6, 8)\n",
    "\n",
    "print(vector(5,7) - vector(1,2))   # (4, \n",
    "    \n",
    "\n",
    "# 2. \n",
    "\n",
    "def smartadder(*args):\n",
    "    detect_type = all(isinstance(i, int) for i in args)\n",
    "    if detect_type:\n",
    "        len(args)==1 and isinstance(args[0], (list, tuple))\n",
    "        mixed_type = all(isinstance(i, float) for i in args)\n",
    "        if mixed_type:\n",
    "            raise TypeError(\"All arguments must be integers\")\n",
    "    return sum(args)\n",
    "\n",
    "\n",
    "print(smartadder(2,1))         # 5\n",
    "print(smartadder(2,3,4,5))     # 14    \n",
    "\n",
    "# 3. \n",
    "\n",
    "class Animal: \n",
    "    def speak(self): \n",
    "        return \"make a sound\"       \n",
    "    \n",
    "    def Dog(Animal): \n",
    "        def speak(self): \n",
    "            return \"Woof!\"\n",
    "    \n",
    "    def Cat(Animal):\n",
    "        def speak(self):\n",
    "            return \"Meow!\"  \n",
    "        \n",
    "print(Animal().speak())   # make a sound\n",
    "print(Dog().speak())      # Woof!\n"
   ]
  },
  {
   "cell_type": "markdown",
   "id": "9a5e8d5d",
   "metadata": {},
   "source": [
    "🔑 So what DSA for a Data Scientist?\n",
    "\n",
    "Here’s the 80/20 roadmap and we’ll go in this order:\n",
    "\n",
    "1. Core Python Data Structures\n",
    "\n",
    "- Strings → slicing, searching, replacing, frequency counts.\n",
    "\n",
    "- Lists → append, pop, insert, sort, slicing, comprehensions.\n",
    "\n",
    "- Tuples → immutability, unpacking.\n",
    "\n",
    "- Dicts (hashmaps) → lookups, counters, groupings.\n",
    "\n",
    "- Sets → uniqueness, unions, intersections."
   ]
  },
  {
   "cell_type": "markdown",
   "id": "ee337975",
   "metadata": {},
   "source": [
    "2. Foundational DSAs\n",
    "\n",
    "- Arrays/Strings problems → sliding window, two pointers.\n",
    "\n",
    "- Stacks/Queues → via list/deque (parsing, matching parentheses, BFS).\n",
    "\n",
    "- Hashmaps/Sets → anagrams, duplicates, frequency analysis.\n",
    "\n",
    "- Heaps/Priority Queue → top-K problems, streaming medians."
   ]
  },
  {
   "cell_type": "markdown",
   "id": "5efa4f4d",
   "metadata": {},
   "source": [
    "3. Intermediate (lightweight)\n",
    "\n",
    "- Sorting algorithms → know them conceptually (merge/quick/heap sort).\n",
    "\n",
    "- Recursion basics (factorial, Fibonacci, tree traversal).\n",
    "\n",
    "- Trees → only binary tree basics (inorder/preorder/postorder, BFS/DFS).\n",
    "\n",
    "- Graphs → BFS/DFS, shortest path idea.\n",
    "\n",
    "- Complexity analysis (big-O for each)."
   ]
  },
  {
   "cell_type": "markdown",
   "id": "1749537d",
   "metadata": {},
   "source": [
    "4. You can safely de-prioritize (unless going hardcore SWE)\n",
    "\n",
    "- Advanced DP (edit distance, LIS, knapsack).\n",
    "\n",
    "- Segment trees, Fenwick trees.\n",
    "\n",
    "- Heavy graph algorithms (Bellman-Ford, Floyd-Warshall, Union-Find).\n",
    "\n",
    "- Bit manipulation tricks."
   ]
  },
  {
   "cell_type": "markdown",
   "id": "68082822",
   "metadata": {},
   "source": [
    "🔑 Step 1: Strings (foundation block)"
   ]
  },
  {
   "cell_type": "markdown",
   "id": "ee5a2cdc",
   "metadata": {},
   "source": [
    "Why start with Strings?\n",
    "\n",
    "- Tons of DS/ML/ETL problems boil down to string parsing/cleaning.\n",
    "\n",
    "- Easy entry to two pointers, hashing, sliding window patterns.\n",
    "\n",
    "- Shows your Python fluency right away."
   ]
  },
  {
   "cell_type": "markdown",
   "id": "035d7a61",
   "metadata": {},
   "source": [
    "REVERSE a string using easy/baseline approach"
   ]
  },
  {
   "cell_type": "code",
   "execution_count": 9,
   "id": "6634e348",
   "metadata": {},
   "outputs": [
    {
     "name": "stdout",
     "output_type": "stream",
     "text": [
      "kola\n",
      "hctaw\n"
     ]
    }
   ],
   "source": [
    "# REVERSE a string using easy/baseline approach\n",
    "def reverse_string(s: str)->str:\n",
    "    s = s[::-1]\n",
    "    return s\n",
    "\n",
    "print(reverse_string(s))\n",
    "\n",
    "s2 = \"watch\" \n",
    "print(reverse_string(s2))\n",
    "\n",
    "\n"
   ]
  },
  {
   "cell_type": "markdown",
   "id": "1ea092d6",
   "metadata": {},
   "source": [
    "REVERSE a string using two pointer approach which is the algorithmic way"
   ]
  },
  {
   "cell_type": "code",
   "execution_count": null,
   "id": "bf116917",
   "metadata": {},
   "outputs": [
    {
     "name": "stdout",
     "output_type": "stream",
     "text": [
      "noissim\n"
     ]
    }
   ],
   "source": [
    "# REVERSE a string using two pointer approach which is the algorithmic way\n",
    "\n",
    "s = \"mission\"\n",
    "def reverse_string_by_tp(s: str)-> str:\n",
    "    \n",
    "    # step 1. Convert to list (since strings are immutable)\n",
    "    chars = list(s)\n",
    "\n",
    "    # step 2. start two pointers, i for start and j for end \n",
    "    i = 0 # points to 'm'\n",
    "    j = len(chars)-1 # points to 'n'\n",
    "\n",
    "    # step 3. start the loop \n",
    "    while i <=j:\n",
    "        chars[i], chars[j] = chars[j], chars[i]\n",
    "        i += 1 # move i 1 step forward\n",
    "        j -= 1 # move j 1 step backward\n",
    "    # join it back as it is still list of chars\n",
    "    return \"\".join(chars) \n",
    "\n",
    "\n",
    "print(reverse_string_by_tp(s))"
   ]
  },
  {
   "cell_type": "markdown",
   "id": "d92d8240",
   "metadata": {},
   "source": [
    "Palindrome Check"
   ]
  },
  {
   "cell_type": "code",
   "execution_count": 14,
   "id": "dcd49f24",
   "metadata": {},
   "outputs": [],
   "source": [
    "def is_palindrome(s:str) ->bool:\n",
    "\n",
    "    i = 0\n",
    "    j = len(s)-1\n",
    "\n",
    "    while i < j:\n",
    "        if s[i] != s[j]:\n",
    "            return False\n",
    "        i +=1\n",
    "        j -=1\n",
    "    return True\n"
   ]
  },
  {
   "cell_type": "code",
   "execution_count": 18,
   "id": "930fc8df",
   "metadata": {},
   "outputs": [
    {
     "name": "stdout",
     "output_type": "stream",
     "text": [
      "False\n",
      "True\n"
     ]
    }
   ],
   "source": [
    "print(is_palindrome(\"alok\"))\n",
    "print(is_palindrome(\"tenet\"))"
   ]
  },
  {
   "cell_type": "markdown",
   "id": "a348e7c0",
   "metadata": {},
   "source": [
    "leetcode prob 125"
   ]
  },
  {
   "cell_type": "code",
   "execution_count": null,
   "id": "08de195a",
   "metadata": {},
   "outputs": [],
   "source": [
    "class Solution:\n",
    "    def isPalindrome(self, s: str) -> bool:\n",
    "        i, j = 0, len(s) - 1\n",
    "        while i < j:\n",
    "            while i < j and not s[i].isalnum():\n",
    "                i += 1\n",
    "            while i < j and not s[j].isalnum():\n",
    "                j -= 1\n",
    "            if s[i].lower() != s[j].lower():\n",
    "                return False\n",
    "            i += 1\n",
    "            j -= 1\n",
    "        return True\n"
   ]
  },
  {
   "cell_type": "markdown",
   "id": "7f1c53eb",
   "metadata": {},
   "source": [
    "hackerrank prob. "
   ]
  },
  {
   "cell_type": "code",
   "execution_count": null,
   "id": "9f9d1b26",
   "metadata": {},
   "outputs": [],
   "source": [
    "def palindrome_index(s: str) -> int:\n",
    "    i, j = 0, len(s) - 1\n",
    "\n",
    "    # 1) find first mismatch\n",
    "    while i < j and s[i] == s[j]:\n",
    "        i += 1\n",
    "        j -= 1\n",
    "\n",
    "    # 2) no mismatch? already palindrome\n",
    "    if i >= j:\n",
    "        return -1\n",
    "\n",
    "    # helper to check palindrome on a subrange\n",
    "    def is_pal(l, r):\n",
    "        while l < r and s[l] == s[r]:\n",
    "            l += 1\n",
    "            r -= 1\n",
    "        return l >= r\n",
    "\n",
    "    # 3) try skipping left mismatched char\n",
    "    if is_pal(i + 1, j):\n",
    "        return i\n",
    "\n",
    "    # 4) try skipping right mismatched char\n",
    "    if is_pal(i, j - 1):\n",
    "        return j\n",
    "\n",
    "    # 5) neither works\n",
    "    return -1\n"
   ]
  }
 ],
 "metadata": {
  "kernelspec": {
   "display_name": "base",
   "language": "python",
   "name": "python3"
  },
  "language_info": {
   "codemirror_mode": {
    "name": "ipython",
    "version": 3
   },
   "file_extension": ".py",
   "mimetype": "text/x-python",
   "name": "python",
   "nbconvert_exporter": "python",
   "pygments_lexer": "ipython3",
   "version": "3.11.7"
  }
 },
 "nbformat": 4,
 "nbformat_minor": 5
}
