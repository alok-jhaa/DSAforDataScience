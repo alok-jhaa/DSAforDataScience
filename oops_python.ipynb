{
 "cells": [
  {
   "cell_type": "markdown",
   "id": "6f6d8196",
   "metadata": {},
   "source": [
    "Class and Objects"
   ]
  },
  {
   "cell_type": "markdown",
   "id": "169ac36f",
   "metadata": {},
   "source": [
    "Class : A class is a blueprint for the object.\n",
    "We can think of class as a sketch of a parrot with labels. It contains all the details about the name, colors,\n",
    "size etc. Based on these descriptions, we can study about the parrot. Here, a parrot is an object.\n",
    "The example for class of parrot can be : "
   ]
  },
  {
   "cell_type": "code",
   "execution_count": null,
   "id": "1216ce4c",
   "metadata": {},
   "outputs": [],
   "source": [
    "class Parrot: \n",
    "    pass"
   ]
  },
  {
   "cell_type": "markdown",
   "id": "1477c99a",
   "metadata": {},
   "source": [
    "Here, we use the class keyword to define an empty class Parrot. From class, we construct instances. An\n",
    "instance is a specific object created from a particular class. \n"
   ]
  },
  {
   "cell_type": "markdown",
   "id": "67db1865",
   "metadata": {},
   "source": [
    "Object: An object (instance) is an instantiation of a class. When class is defined, only the description for the object\n",
    "is defined. Therefore, no memory or storage is allocated.\n",
    "The example for object of parrot class can be: "
   ]
  },
  {
   "cell_type": "code",
   "execution_count": 17,
   "id": "bbbf1580",
   "metadata": {},
   "outputs": [
    {
     "ename": "TypeError",
     "evalue": "Parrot.__init__() missing 2 required positional arguments: 'name' and 'age'",
     "output_type": "error",
     "traceback": [
      "\u001b[1;31m---------------------------------------------------------------------------\u001b[0m",
      "\u001b[1;31mTypeError\u001b[0m                                 Traceback (most recent call last)",
      "Cell \u001b[1;32mIn[17], line 1\u001b[0m\n\u001b[1;32m----> 1\u001b[0m obj \u001b[38;5;241m=\u001b[39m Parrot()\n\u001b[0;32m      2\u001b[0m \u001b[38;5;28mprint\u001b[39m(obj)\n",
      "\u001b[1;31mTypeError\u001b[0m: Parrot.__init__() missing 2 required positional arguments: 'name' and 'age'"
     ]
    }
   ],
   "source": [
    "obj = Parrot()\n",
    "print(obj)"
   ]
  },
  {
   "cell_type": "code",
   "execution_count": 6,
   "id": "95b758f9",
   "metadata": {},
   "outputs": [
    {
     "name": "stdout",
     "output_type": "stream",
     "text": [
      "Blu is a bird\n",
      "Woo is also a bird\n",
      "Blu is 10 years old\n",
      "Woo is 15 years old\n"
     ]
    }
   ],
   "source": [
    "class Parrot: \n",
    "    \n",
    "    # class attribute\n",
    "    speciecs = \"bird\"\n",
    "\n",
    "    # instance(object) attribute\n",
    "    def __init__(self, name, age):\n",
    "        self.name = name\n",
    "        self.age = age\n",
    "\n",
    "# instantiate the Parrot class\n",
    "blu = Parrot(\"Blu\", 10)\n",
    "woo = Parrot(\"Woo\", 15)\n",
    "\n",
    "# access the class attributes\n",
    "print(\"Blu is a {}\".format(blu.speciecs))\n",
    "print(\"Woo is also a {}\".format(woo.speciecs))\n",
    "\n",
    "# access the instance attributes\n",
    "print(\"{} is {} years old\".format(blu.name, blu.age))\n",
    "print(\"{} is {} years old\".format(woo.name, woo.age))"
   ]
  },
  {
   "cell_type": "markdown",
   "id": "1f4706ea",
   "metadata": {},
   "source": [
    "Constructor"
   ]
  },
  {
   "cell_type": "markdown",
   "id": "45a5664a",
   "metadata": {},
   "source": [
    "The constructor is a method that is called when an object is created. This method is defined in the class and\n",
    "can be used to initialize basic variables.\n",
    "If you create four objects, the class constructor is called four times. Every class has a constructor, but its not\n",
    "required to explicitly define it.\n",
    "\n",
    "Example:\n",
    "Each time an object is created a method is called. That methods is named the constructor. \n"
   ]
  },
  {
   "cell_type": "markdown",
   "id": "a6e88dae",
   "metadata": {},
   "source": [
    "The constructor is created with the function init. As parameter we write the self keyword, which refers to\n",
    "itself (the object). The process visually is:"
   ]
  },
  {
   "cell_type": "code",
   "execution_count": null,
   "id": "9db85d8d",
   "metadata": {},
   "outputs": [
    {
     "name": "stdout",
     "output_type": "stream",
     "text": [
      "2\n",
      "2\n"
     ]
    }
   ],
   "source": [
    "class Human:\n",
    "    def __init__(self):\n",
    "        self.legs = 2\n",
    "        self.arms = 2\n",
    "\n",
    "alok = Human()\n",
    "\n",
    "print(alok.legs)\n",
    "print(alok.arms)\n",
    "\n",
    "\n"
   ]
  },
  {
   "cell_type": "code",
   "execution_count": 18,
   "id": "b17a53b6",
   "metadata": {},
   "outputs": [
    {
     "name": "stdout",
     "output_type": "stream",
     "text": [
      "Tesla - Model 3\n",
      "Ford - Unknown\n"
     ]
    }
   ],
   "source": [
    "class Car:\n",
    "    def __init__(self, brand, model=\"Unknown\"):\n",
    "        self.brand = brand\n",
    "        self.model = model\n",
    "\n",
    "    def details(self):\n",
    "        return f\"{self.brand} - {self.model}\"\n",
    "\n",
    "car1 = Car(\"Tesla\", \"Model 3\")\n",
    "car2 = Car(\"Ford\")\n",
    "\n",
    "print(car1.details())\n",
    "print(car2.details())\n"
   ]
  },
  {
   "cell_type": "markdown",
   "id": "74a6336c",
   "metadata": {},
   "source": [
    "Python Variable Types: Local & Global \n",
    "\n",
    "When you want to use the same variable for rest of your program or module you declare it as a global variable, while if you want to use the variable in a specific function or method, you use a local variable while Python variable declaration. "
   ]
  },
  {
   "cell_type": "code",
   "execution_count": 20,
   "id": "9c5d87c1",
   "metadata": {},
   "outputs": [
    {
     "name": "stdout",
     "output_type": "stream",
     "text": [
      "101\n",
      "I am learning Python\n"
     ]
    }
   ],
   "source": [
    "# Declare a variable and initialize it\n",
    "f = 101\n",
    "print (f)\n",
    "\n",
    "# Global vs. local variables in functions\n",
    "\n",
    "def someFunction():\n",
    "# global f\n",
    "     f = 'I am learning Python'\n",
    "     print (f) \n",
    "\n",
    "\n",
    "someFunction()\n"
   ]
  },
  {
   "cell_type": "markdown",
   "id": "31a213f5",
   "metadata": {},
   "source": [
    "While Python variable declaration using the keyword global, you can reference the global variable inside a\n",
    "function. "
   ]
  },
  {
   "cell_type": "code",
   "execution_count": 24,
   "id": "999bd107",
   "metadata": {},
   "outputs": [
    {
     "name": "stdout",
     "output_type": "stream",
     "text": [
      "101\n",
      "Changing global variable\n"
     ]
    }
   ],
   "source": [
    "f = 101;\n",
    "print (f)\n",
    "\n",
    "\n",
    "# Global vs.local variables in functions\n",
    "def someFunction():\n",
    "     global f\n",
    "     f = 'Changing global variable'\n",
    "     print (f)\n",
    "\n",
    "\n",
    "someFunction()\n"
   ]
  },
  {
   "cell_type": "markdown",
   "id": "07339289",
   "metadata": {},
   "source": [
    "Types of methods:\n",
    "Generally, there are three types of methods in Python:\n",
    "1. Instance Methods.\n",
    "2. Class Methods\n",
    "3. Static Methods "
   ]
  },
  {
   "cell_type": "markdown",
   "id": "7dc93ae7",
   "metadata": {},
   "source": [
    "Before moving on with the topic, we have to know some key concepts.\n",
    "Class Variable: A class variable is nothing but a variable that is defined outside the constructor. A class\n",
    "variable is also called as a static variable.\n",
    "Accessor(Getters): If you want to fetch the value from an instance variable we call them accessors.\n",
    "Mutator(Setters): If you want to modify the value we call them mutators"
   ]
  },
  {
   "cell_type": "markdown",
   "id": "7d50b521",
   "metadata": {},
   "source": [
    "Instance method"
   ]
  },
  {
   "cell_type": "markdown",
   "id": "44a7f820",
   "metadata": {},
   "source": [
    "- An instance method is a function defined inside a class that operates on objects (instances) of that class.\n",
    "\n",
    "- It always takes self as the first parameter → self refers to the specific object calling the method.\n",
    "\n",
    "- Through self, the method can access/modify instance variables (like self.a, self.b)."
   ]
  },
  {
   "cell_type": "code",
   "execution_count": 35,
   "id": "066a2f35",
   "metadata": {},
   "outputs": [
    {
     "name": "stdout",
     "output_type": "stream",
     "text": [
      "25.0\n",
      "45.0\n"
     ]
    }
   ],
   "source": [
    "class Student: \n",
    "    def __init__(self, a, b):\n",
    "        self.a = a\n",
    "        self.b = b\n",
    "\n",
    "    def avg(self):   # <-- instance method\n",
    "        return (self.a + self.b) / 2\n",
    "\n",
    "s1 = Student(20, 30)\n",
    "s2 = Student(40, 50)\n",
    "\n",
    "print(s1.avg())  # 25.0\n",
    "print(s2.avg())  # 45.0\n"
   ]
  },
  {
   "cell_type": "markdown",
   "id": "302743ec",
   "metadata": {},
   "source": [
    "Class Method: \n",
    "\n",
    "- A method that works on the class itself, not on individual objects.\n",
    "\n",
    "- Defined using the @classmethod decorator.\n",
    "\n",
    "- Instead of self, it takes cls as the first argument → cls refers to the class, not the object.\n",
    "\n",
    "- Used when you want to modify or access class-level data (shared across all objects)."
   ]
  },
  {
   "cell_type": "code",
   "execution_count": 36,
   "id": "c97dd015",
   "metadata": {},
   "outputs": [
    {
     "name": "stdout",
     "output_type": "stream",
     "text": [
      "Ravi is 15 years old and studies at ABC School\n",
      "Priya is 16 years old and studies at ABC School\n",
      "Ravi is 15 years old and studies at XYZ School\n",
      "Priya is 16 years old and studies at XYZ School\n"
     ]
    }
   ],
   "source": [
    "class Student:\n",
    "    # Class variable (shared by all students)\n",
    "    school_name = \"ABC School\"\n",
    "\n",
    "    def __init__(self, name, age):\n",
    "        self.name = name\n",
    "        self.age = age   # instance variable\n",
    "\n",
    "    # Instance method\n",
    "    def details(self):\n",
    "        return f\"{self.name} is {self.age} years old and studies at {Student.school_name}\"\n",
    "\n",
    "    # Class method\n",
    "    @classmethod\n",
    "    def change_school(cls, new_name):\n",
    "        cls.school_name = new_name\n",
    "\n",
    "# Create objects\n",
    "s1 = Student(\"Ravi\", 15)\n",
    "s2 = Student(\"Priya\", 16)\n",
    "\n",
    "print(s1.details())   # Ravi is 15 years old and studies at ABC School\n",
    "print(s2.details())   # Priya is 16 years old and studies at ABC School\n",
    "\n",
    "# Use class method to change class variable\n",
    "Student.change_school(\"XYZ School\")\n",
    "\n",
    "print(s1.details())   # Ravi is 15 years old and studies at XYZ School\n",
    "print(s2.details())   # Priya is 16 years old and studies at XYZ School\n"
   ]
  },
  {
   "cell_type": "markdown",
   "id": "cdbfe687",
   "metadata": {},
   "source": [
    "Static Method\n",
    "\n",
    "- No self, no cls.\n",
    "\n",
    "- Just a function inside a class, grouped for organization.\n",
    "\n",
    "- It doesn’t care about class variables or instance variables.\n",
    "\n",
    "- Defined with @staticmethod."
   ]
  },
  {
   "cell_type": "code",
   "execution_count": 37,
   "id": "8d6761e0",
   "metadata": {},
   "outputs": [
    {
     "name": "stdout",
     "output_type": "stream",
     "text": [
      "30\n",
      "True\n"
     ]
    }
   ],
   "source": [
    "class MathUtils:\n",
    "    @staticmethod\n",
    "    def add(a, b):\n",
    "        return a + b\n",
    "\n",
    "    @staticmethod\n",
    "    def is_even(n):\n",
    "        return n % 2 == 0\n",
    "\n",
    "print(MathUtils.add(10, 20))     # 30\n",
    "print(MathUtils.is_even(4))      # True\n"
   ]
  },
  {
   "cell_type": "markdown",
   "id": "70616671",
   "metadata": {},
   "source": [
    "👉 Quick analogy:\n",
    "\n",
    "- Instance method = personal diary (per object).\n",
    "\n",
    "- Class method = school notice board (shared by all students).\n",
    "\n",
    "- Static method = calculator in the classroom (just a tool, doesn’t belong to anyone)."
   ]
  },
  {
   "cell_type": "markdown",
   "id": "719d8291",
   "metadata": {},
   "source": [
    "### QUIZZ"
   ]
  },
  {
   "cell_type": "code",
   "execution_count": 38,
   "id": "39d155a0",
   "metadata": {},
   "outputs": [
    {
     "name": "stdout",
     "output_type": "stream",
     "text": [
      "Hello, I am Alok\n",
      "Hello, I am Ravi\n",
      "Meta\n",
      "Meta\n",
      "25\n",
      "Alok works at Amazon\n",
      "Welcome to the company!\n",
      "Alok works at Netflix\n"
     ]
    }
   ],
   "source": [
    "# Q1: Instance Method\n",
    "\n",
    "# What will this print?\n",
    "\n",
    "class Student:\n",
    "    def __init__(self, name):\n",
    "        self.name = name\n",
    "\n",
    "    def greet(self):\n",
    "        return f\"Hello, I am {self.name}\"\n",
    "\n",
    "s1 = Student(\"Alok\")\n",
    "s2 = Student(\"Ravi\")\n",
    "\n",
    "print(s1.greet())\n",
    "print(s2.greet())\n",
    "\n",
    "\n",
    "# Q2: Class Method\n",
    "\n",
    "# What will this print?\n",
    "\n",
    "class Company:\n",
    "    company_name = \"Google\"\n",
    "\n",
    "    @classmethod\n",
    "    def change_name(cls, new_name):\n",
    "        cls.company_name = new_name\n",
    "\n",
    "c1 = Company()\n",
    "c2 = Company()\n",
    "\n",
    "Company.change_name(\"Meta\")\n",
    "\n",
    "print(c1.company_name)\n",
    "print(c2.company_name)\n",
    "\n",
    "# Q3: Static Method\n",
    "\n",
    "# What will this print?\n",
    "\n",
    "class MathUtils:\n",
    "    @staticmethod\n",
    "    def square(x):\n",
    "        return x * x\n",
    "\n",
    "print(MathUtils.square(5))\n",
    "\n",
    "\n",
    "# Q4: Mixed Methods\n",
    "\n",
    "# What will this print?\n",
    "\n",
    "class Employee:\n",
    "    company = \"Amazon\"\n",
    "\n",
    "    def __init__(self, name):\n",
    "        self.name = name\n",
    "\n",
    "    def show(self):   # Instance method\n",
    "        return f\"{self.name} works at {Employee.company}\"\n",
    "\n",
    "    @classmethod\n",
    "    def change_company(cls, new_company):   # Class method\n",
    "        cls.company = new_company\n",
    "\n",
    "    @staticmethod\n",
    "    def greet():   # Static method\n",
    "        return \"Welcome to the company!\"\n",
    "\n",
    "e1 = Employee(\"Alok\")\n",
    "print(e1.show())\n",
    "print(Employee.greet())\n",
    "\n",
    "Employee.change_company(\"Netflix\")\n",
    "print(e1.show())"
   ]
  },
  {
   "cell_type": "markdown",
   "id": "9e027e47",
   "metadata": {},
   "source": [
    "Inheritance\n",
    "\n",
    "What is Inheritance (and why you care)\n",
    "\n",
    "Definition: A class (child/subclass) can reuse/extend another class (parent/superclass).\n",
    "\n",
    "Why: Avoid duplicate code; specialize behavior; keep shared logic in one place."
   ]
  },
  {
   "cell_type": "markdown",
   "id": "f81e0dc7",
   "metadata": {},
   "source": [
    "1. Single Inheritance"
   ]
  },
  {
   "cell_type": "code",
   "execution_count": 40,
   "id": "88e2a10e",
   "metadata": {},
   "outputs": [
    {
     "name": "stdout",
     "output_type": "stream",
     "text": [
      "Bruno\n",
      "Woof\n"
     ]
    }
   ],
   "source": [
    "class Animal:\n",
    "    def __init__(self, name):\n",
    "        self.name = name\n",
    "\n",
    "    def speak(self):\n",
    "        return \"<silence>\"\n",
    "\n",
    "class Dog(Animal):                  # Dog inherits from Animal\n",
    "    def speak(self):                # override\n",
    "        return \"Woof\"\n",
    "\n",
    "d = Dog(\"Bruno\")\n",
    "print(d.name)      # Bruno  (inherited from Animal)\n",
    "print(d.speak())   # Woof   (overridden in Dog)\n",
    "\n",
    "# Key points\n",
    "\n",
    "# Child class gets all attributes/methods of the parent unless it overrides them.\n",
    "\n",
    "# If the child defines the same method, the child’s version wins.\n"
   ]
  },
  {
   "cell_type": "markdown",
   "id": "daa4f2f0",
   "metadata": {},
   "source": [
    "2) Using super() correctly\n",
    "\n",
    "- super() is a built-in function that gives you access to the parent class (a.k.a. superclass).\n",
    "\n",
    "- You use it when you want the child class to reuse or extend behavior from the parent, instead of completely replacing it."
   ]
  },
  {
   "cell_type": "markdown",
   "id": "f71c7a04",
   "metadata": {},
   "source": [
    "Why do we need it?"
   ]
  },
  {
   "cell_type": "code",
   "execution_count": null,
   "id": "154df61e",
   "metadata": {},
   "outputs": [],
   "source": [
    "# 👉 Imagine you’re building a Car class that inherits from Vehicle.\n",
    "\n",
    "\n",
    "\n"
   ]
  },
  {
   "cell_type": "code",
   "execution_count": null,
   "id": "705cbb25",
   "metadata": {},
   "outputs": [],
   "source": []
  }
 ],
 "metadata": {
  "kernelspec": {
   "display_name": "base",
   "language": "python",
   "name": "python3"
  },
  "language_info": {
   "codemirror_mode": {
    "name": "ipython",
    "version": 3
   },
   "file_extension": ".py",
   "mimetype": "text/x-python",
   "name": "python",
   "nbconvert_exporter": "python",
   "pygments_lexer": "ipython3",
   "version": "3.11.7"
  }
 },
 "nbformat": 4,
 "nbformat_minor": 5
}
